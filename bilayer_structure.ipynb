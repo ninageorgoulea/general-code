{
 "cells": [
  {
   "cell_type": "code",
   "execution_count": 1,
   "id": "7cd8a2b4",
   "metadata": {},
   "outputs": [],
   "source": [
    "# Import libraries\n",
    "import numpy as np\n",
    "import matplotlib.pyplot as plt\n",
    "from scipy.spatial import cKDTree\n",
    "from scipy.interpolate import griddata\n"
   ]
  },
  {
   "cell_type": "code",
   "execution_count": 3,
   "id": "30136705",
   "metadata": {},
   "outputs": [],
   "source": [
    "# Functions\n",
    "# Function for calculating the positions of the atoms\n",
    "def layer(four_atom_x, four_atom_y, shiftx, shifty, delx1, dely1, delx2, dely2, xcells1, ycells1, xcells2, ycells2, strainy1, strainy2, p, poisson):\n",
    "    # L1\n",
    "    layerx1, layery1 = np.array([]), np.array([])\n",
    "    for i in np.arange(xcells1):\n",
    "        for j in np.arange(ycells1):\n",
    "            layerx1 = np.concatenate((layerx1, four_atom_x + i*shiftx))\n",
    "            layery1 = np.concatenate((layery1, four_atom_y + j*shifty))\n",
    "    layery1 = dely1 + layery1*(1 + strainy1)\n",
    "    layerx1 = delx1 + layerx1*(1 - strainy1*poisson)\n",
    "    layerz1 = np.transpose(np.ones(len(layerx1))*0)\n",
    "    # L2\n",
    "    layerx2, layery2 = np.array([]), np.array([])\n",
    "    for i in np.arange(xcells2):\n",
    "        for j in np.arange(ycells2):\n",
    "            layerx2 = np.concatenate((layerx2, four_atom_x + i*shiftx))\n",
    "            layery2 = np.concatenate((layery2, four_atom_y + j*shifty))\n",
    "    layery2 = dely2 + layery2*(1 + strainy2)\n",
    "    layerx2 = delx2 + layerx2*(1 - strainy2*poisson)\n",
    "    layerz2 = np.transpose(np.ones(len(layerx2))*p)\n",
    "    # Concatenate L1 & L2\n",
    "    layerx = np.concatenate((layerx1, layerx2))\n",
    "    layery = np.concatenate((layery1, layery2))\n",
    "    layerz = np.concatenate((layerz1, layerz2))\n",
    "    return layerx, layery, layerz\n",
    "\n",
    "def map_stacking3(coords_all, L1SA, L1SB, L2SA, L2SB, ptsx, ptsy, cutoff):\n",
    "    tree1A = cKDTree(coords_all[L1SA])\n",
    "    tree1B = cKDTree(coords_all[L1SB])\n",
    "    tree2A = cKDTree(coords_all[L2SA])\n",
    "    tree2B = cKDTree(coords_all[L2SB])\n",
    "    dAA = tree1A.sparse_distance_matrix(tree2A, max_distance = cutoff)\n",
    "    dAB = tree1A.sparse_distance_matrix(tree2B, max_distance = cutoff)\n",
    "    dBA = tree1B.sparse_distance_matrix(tree2A, max_distance = cutoff)\n",
    "    dBB = tree1B.sparse_distance_matrix(tree2B, max_distance = cutoff)   \n",
    "    lAA = tree1A.query_ball_tree(tree2A, r = cutoff)\n",
    "    lAB = tree1A.query_ball_tree(tree2B, r = cutoff)\n",
    "    lBA = tree1B.query_ball_tree(tree2A, r = cutoff)\n",
    "    lBB = tree1B.query_ball_tree(tree2B, r = cutoff)\n",
    "    AAmin, ABmin = [], []\n",
    "    BAmin, BBmin = [], []\n",
    "    for i, l in enumerate(lAA):\n",
    "        AAmin.append(dAA[i, l].toarray().min())\n",
    "    for i, l in enumerate(lAB):\n",
    "        ABmin.append(dAB[i, l].toarray().min())\n",
    "    for i, l in enumerate(lBA):\n",
    "        BAmin.append(dBA[i, l].toarray().min())\n",
    "    for i, l in enumerate(lBB):\n",
    "        BBmin.append(dBB[i, l].toarray().min())\n",
    "    AAmin = np.array(AAmin)*np.sqrt(3)/alat\n",
    "    ABmin = np.array(ABmin)*np.sqrt(3)/alat\n",
    "    BAmin = np.array(BAmin)*np.sqrt(3)/alat\n",
    "    BBmin = np.array(BBmin)*np.sqrt(3)/alat\n",
    "    xgrid = np.linspace(coords_all[L1SA, 0].min(), coords_all[L1SA, 0].max(), ptsx)\n",
    "    ygrid = np.linspace(coords_all[L1SA, 1].min(), coords_all[L1SA, 1].max(), ptsy)\n",
    "    xgrid, ygrid = np.meshgrid(xgrid, ygrid)\n",
    "    AAg = griddata((coords_all[L1SA, 0], coords_all[L1SA, 1]), AAmin, (xgrid, ygrid), method = 'linear')\n",
    "    ABg = griddata((coords_all[L1SA, 0], coords_all[L1SA, 1]), ABmin, (xgrid, ygrid), method = 'linear')\n",
    "    BAg = griddata((coords_all[L1SA, 0], coords_all[L1SA, 1]), BAmin, (xgrid, ygrid), method = 'linear')\n",
    "    BBg = griddata((coords_all[L1SA, 0], coords_all[L1SA, 1]), BBmin, (xgrid, ygrid), method = 'linear')\n",
    "    stacking = (BAg - ABg)*(AAg + BBg)/2\n",
    "    return xgrid, ygrid, stacking\n"
   ]
  },
  {
   "cell_type": "code",
   "execution_count": 13,
   "id": "9e85b707",
   "metadata": {},
   "outputs": [
    {
     "name": "stdout",
     "output_type": "stream",
     "text": [
      "200596\n"
     ]
    },
    {
     "data": {
      "image/png": "[encoded data removed]",
      "text/plain": [
       "<Figure size 1000x700 with 1 Axes>"
      ]
     },
     "metadata": {},
     "output_type": "display_data"
    }
   ],
   "source": [
    "# General parameters\n",
    "alat = 2.46 # Used when drawing bands\n",
    "thop = -2.7 # In-plane hopping term\n",
    "sigma = 0.48 # For hopping terms\n",
    "d = 3.35 # Interlayer distance\n",
    "acc = 1/np.sqrt(3) # Carbon-carbon (e.g. nearest neighbour) distance\n",
    "dd = acc*alat + 0.4\n",
    "eta = 0.001 # Parameter for DOS calculation, delta function\n",
    "epsilon = 0.00000001\n",
    "poisson = 0.4 # Poisson ratio\n",
    "strainy1 = 0.01 # Strain on the bottom layer along x and y direction\n",
    "strainy2 = 0 # Strain on the top layer along x and y direction\n",
    "shiftx, shifty = alat, 3*acc*alat\n",
    "four_atom_x = np.array([0, -0.5, -0.5, 0])*alat\n",
    "four_atom_y = np.array([0, 0.5*acc, 1.5*acc, 2*acc])*alat\n",
    "xdim1, ydim1 = 250, 100 # Number of cells along x and y direction for L1\n",
    "xdim2, ydim2 = 249, 101 # Number of cells along x and y direction for L2\n",
    "shiftxx, shiftyy = xdim1*shiftx*(1-poisson*strainy1), ydim1*shifty*(1+strainy1)\n",
    "delx1, dely1, delx2, dely2 = 0, 0, 0, 0 # AA stacking\n",
    "# Coords\n",
    "layerx, layery, layerz = layer(four_atom_x, four_atom_y, shiftx, shifty, delx1, dely1, delx2, dely2, xdim1, ydim1, xdim2, ydim2, strainy1, strainy2, d, poisson)\n",
    "coords_dev = np.array((layerx, layery)).T\n",
    "print(len(coords_dev))\n",
    "L1 = np.where(layerz == 0.0)[0]\n",
    "L2 = np.where(layerz != 0.0)[0]\n",
    "L1SA = L1[::2]\n",
    "L1SB = L1[1::2]\n",
    "L2SA = L2[::2]\n",
    "L2SB = L2[1::2]\n",
    "xgd = 101\n",
    "ygd = 71\n",
    "xgrid, ygrid, stacking = map_stacking3(coords_dev, L1SA, L1SB, L2SA, L2SB, xgd, ygd, dd*alat)\n",
    "\n",
    "# Plot\n",
    "fig, ax = plt.subplots(1,1, figsize=(10, 7))\n",
    "plt.pcolormesh(xgrid, ygrid, stacking, shading = 'auto', cmap='seismic', vmin = -1, vmax = 1)#, vmin=-1, vmax=1)\n",
    "plt.gca().set_aspect('equal')\n",
    "plt.xticks([])\n",
    "plt.yticks([])\n",
    "plt.savefig('01str_2d_04.png', bbox_inches = 'tight', dpi = 300)\n",
    "plt.show()\n"
   ]
  },
  {
   "cell_type": "code",
   "execution_count": null,
   "id": "2b32f165",
   "metadata": {},
   "outputs": [],
   "source": []
  },
  {
   "cell_type": "code",
   "execution_count": null,
   "id": "80b5059e",
   "metadata": {},
   "outputs": [],
   "source": []
  },
  {
   "cell_type": "code",
   "execution_count": null,
   "id": "cd87593f",
   "metadata": {},
   "outputs": [],
   "source": []
  },
  {
   "cell_type": "code",
   "execution_count": null,
   "id": "c704efa2",
   "metadata": {},
   "outputs": [],
   "source": []
  },
  {
   "cell_type": "code",
   "execution_count": null,
   "id": "7d0d756f",
   "metadata": {},
   "outputs": [],
   "source": []
  }
 ],
 "metadata": {
  "kernelspec": {
   "display_name": "Python 3 (ipykernel)",
   "language": "python",
   "name": "python3"
  },
  "language_info": {
   "codemirror_mode": {
    "name": "ipython",
    "version": 3
   },
   "file_extension": ".py",
   "mimetype": "text/x-python",
   "name": "python",
   "nbconvert_exporter": "python",
   "pygments_lexer": "ipython3",
   "version": "3.9.18"
  }
 },
 "nbformat": 4,
 "nbformat_minor": 5
}
